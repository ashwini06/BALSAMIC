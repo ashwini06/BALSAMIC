{
 "cells": [
  {
   "cell_type": "code",
   "execution_count": 60,
   "metadata": {},
   "outputs": [],
   "source": [
    "rm(list = ls())"
   ]
  },
  {
   "cell_type": "code",
   "execution_count": 61,
   "metadata": {},
   "outputs": [],
   "source": [
    "library(\"data.table\")\n",
    "library(\"stargazer\")"
   ]
  },
  {
   "cell_type": "code",
   "execution_count": 62,
   "metadata": {},
   "outputs": [
    {
     "data": {},
     "metadata": {},
     "output_type": "display_data"
    },
    {
     "data": {
      "text/html": [
       "<table>\n",
       "<thead><tr><th scope=col>CHROM</th><th scope=col>POS</th><th scope=col>REF</th><th scope=col>ALT</th><th scope=col>TYPE</th><th scope=col>CALLER</th><th scope=col>TUMOR_DP</th><th scope=col>TUMOR_AD_REF</th><th scope=col>TUMOR_AD_ALT</th><th scope=col>FILTERED</th><th scope=col>MSK_MVL</th><th scope=col>Allele</th><th scope=col>Consequence</th><th scope=col>IMPACT</th><th scope=col>SYMBOL</th><th scope=col>Gene</th><th scope=col>Feature_type</th><th scope=col>Feature</th><th scope=col>BIOTYPE</th><th scope=col>EXON</th><th scope=col>INTRON</th><th scope=col>HGVSc</th><th scope=col>HGVSp</th><th scope=col>cDNA_position</th><th scope=col>CDS_position</th><th scope=col>Protein_position</th><th scope=col>Amino_acids</th><th scope=col>Codons</th><th scope=col>Existing_variation</th><th scope=col>DISTANCE</th><th scope=col>STRAND</th><th scope=col>FLAGS</th><th scope=col>VARIANT_CLASS</th><th scope=col>SYMBOL_SOURCE</th><th scope=col>HGNC_ID</th><th scope=col>CANONICAL</th><th scope=col>TSL</th><th scope=col>APPRIS</th><th scope=col>CCDS</th><th scope=col>ENSP</th><th scope=col>SWISSPROT</th><th scope=col>TREMBL</th><th scope=col>UNIPARC</th><th scope=col>GENE_PHENO</th><th scope=col>SIFT</th><th scope=col>PolyPhen</th><th scope=col>DOMAINS</th><th scope=col>HGVS_OFFSET</th><th scope=col>AF</th><th scope=col>AFR_AF</th><th scope=col>AMR_AF</th><th scope=col>EAS_AF</th><th scope=col>EUR_AF</th><th scope=col>SAS_AF</th><th scope=col>AA_AF</th><th scope=col>EA_AF</th><th scope=col>gnomAD_AF</th><th scope=col>gnomAD_AFR_AF</th><th scope=col>gnomAD_AMR_AF</th><th scope=col>gnomAD_ASJ_AF</th><th scope=col>gnomAD_EAS_AF</th><th scope=col>gnomAD_FIN_AF</th><th scope=col>gnomAD_NFE_AF</th><th scope=col>gnomAD_OTH_AF</th><th scope=col>gnomAD_SAS_AF</th><th scope=col>MAX_AF</th><th scope=col>MAX_AF_POPS</th><th scope=col>CLIN_SIG</th><th scope=col>SOMATIC</th><th scope=col>PHENO</th><th scope=col>PUBMED</th><th scope=col>MOTIF_NAME</th><th scope=col>MOTIF_POS</th><th scope=col>HIGH_INF_POS</th><th scope=col>MOTIF_SCORE_CHANGE</th><th scope=col>ID</th></tr></thead>\n",
       "<tbody>\n",
       "\t<tr><td>1                            </td><td>898012                       </td><td>G                            </td><td>T                            </td><td>SNP                          </td><td>VARDICT                      </td><td>99                           </td><td>96                           </td><td>3                            </td><td>NO                           </td><td>.                            </td><td>T                            </td><td>downstream_gene_variant      </td><td>MODIFIER                     </td><td>KLHL17                       </td><td>ENSG00000187961              </td><td>Transcript                   </td><td>ENST00000463212              </td><td>retained_intron              </td><td>.                            </td><td>.                            </td><td>.                            </td><td>.                            </td><td>.                            </td><td>.                            </td><td>.                            </td><td>.                            </td><td>.                            </td><td>.                            </td><td>154                          </td><td>1                            </td><td>.                            </td><td>SNV                          </td><td>HGNC                         </td><td>24023                        </td><td>.                            </td><td>.                            </td><td>.                            </td><td>.                            </td><td>.                            </td><td>.                            </td><td>.                            </td><td>.                            </td><td>.                            </td><td>.                            </td><td>.                            </td><td>.                            </td><td>.                            </td><td>.                            </td><td>.                            </td><td>.                            </td><td>.                            </td><td>.                            </td><td>.                            </td><td>.                            </td><td>.                            </td><td>.                            </td><td>.                            </td><td>.                            </td><td>.                            </td><td>.                            </td><td>.                            </td><td>.                            </td><td>.                            </td><td>.                            </td><td>.                            </td><td>.                            </td><td>.                            </td><td>.                            </td><td>.                            </td><td>.                            </td><td>.                            </td><td>.                            </td><td>.                            </td><td>.                            </td><td>1_898012_G_T                 </td></tr>\n",
       "\t<tr><td>1                                                                </td><td>898012                                                           </td><td>G                                                                </td><td>T                                                                </td><td>SNP                                                              </td><td>VARDICT                                                          </td><td>99                                                               </td><td>96                                                               </td><td>3                                                                </td><td>NO                                                               </td><td>.                                                                </td><td>T                                                                </td><td><span style=white-space:pre-wrap>intron_variant           </span></td><td>MODIFIER                                                         </td><td>KLHL17                                                           </td><td>ENSG00000187961                                                  </td><td><span style=white-space:pre-wrap>Transcript       </span>        </td><td>ENST00000338591                                                  </td><td><span style=white-space:pre-wrap>protein_coding         </span>  </td><td>.                                                                </td><td>5/11                                                             </td><td>ENST00000338591.3:c.829-72G&gt;T                                 </td><td>.                                                                </td><td>.                                                                </td><td>.                                                                </td><td>.                                                                </td><td>.                                                                </td><td>.                                                                </td><td>.                                                                </td><td><span style=white-space:pre-wrap>.   </span>                     </td><td>1                                                                </td><td><span style=white-space:pre-wrap>.           </span>             </td><td>SNV                                                              </td><td>HGNC                                                             </td><td>24023                                                            </td><td>YES                                                              </td><td>.                                                                </td><td>.                                                                </td><td>CCDS30550.1                                                      </td><td>ENSP00000343930                                                  </td><td>Q6TDP4                                                           </td><td>Q0VGE6&amp;B3KXL7                                                </td><td>UPI00001DFBF0                                                    </td><td>.                                                                </td><td>.                                                                </td><td>.                                                                </td><td>.                                                                </td><td>.                                                                </td><td>.                                                                </td><td>.                                                                </td><td>.                                                                </td><td>.                                                                </td><td>.                                                                </td><td>.                                                                </td><td>.                                                                </td><td>.                                                                </td><td>.                                                                </td><td>.                                                                </td><td>.                                                                </td><td>.                                                                </td><td>.                                                                </td><td>.                                                                </td><td>.                                                                </td><td>.                                                                </td><td>.                                                                </td><td>.                                                                </td><td>.                                                                </td><td>.                                                                </td><td>.                                                                </td><td>.                                                                </td><td>.                                                                </td><td>.                                                                </td><td>.                                                                </td><td>.                                                                </td><td>.                                                                </td><td>1_898012_G_T                                                     </td></tr>\n",
       "\t<tr><td>1                            </td><td>898012                       </td><td>G                            </td><td>T                            </td><td>SNP                          </td><td>VARDICT                      </td><td>99                           </td><td>96                           </td><td>3                            </td><td>NO                           </td><td>.                            </td><td>T                            </td><td>regulatory_region_variant    </td><td>MODIFIER                     </td><td>.                            </td><td>.                            </td><td>RegulatoryFeature            </td><td>ENSR00000344307              </td><td>CTCF_binding_site            </td><td>.                            </td><td>.                            </td><td>.                            </td><td>.                            </td><td>.                            </td><td>.                            </td><td>.                            </td><td>.                            </td><td>.                            </td><td>.                            </td><td>.                            </td><td>.                            </td><td>.                            </td><td>SNV                          </td><td>.                            </td><td>.                            </td><td>.                            </td><td>.                            </td><td>.                            </td><td>.                            </td><td>.                            </td><td>.                            </td><td>.                            </td><td>.                            </td><td>.                            </td><td>.                            </td><td>.                            </td><td>.                            </td><td>.                            </td><td>.                            </td><td>.                            </td><td>.                            </td><td>.                            </td><td>.                            </td><td>.                            </td><td>.                            </td><td>.                            </td><td>.                            </td><td>.                            </td><td>.                            </td><td>.                            </td><td>.                            </td><td>.                            </td><td>.                            </td><td>.                            </td><td>.                            </td><td>.                            </td><td>.                            </td><td>.                            </td><td>.                            </td><td>.                            </td><td>.                            </td><td>.                            </td><td>.                            </td><td>.                            </td><td>.                            </td><td>1_898012_G_T                 </td></tr>\n",
       "\t<tr><td>1                            </td><td>898012                       </td><td>G                            </td><td>T                            </td><td>SNP                          </td><td>VARDICT                      </td><td>99                           </td><td>96                           </td><td>3                            </td><td>NO                           </td><td>.                            </td><td>T                            </td><td>upstream_gene_variant        </td><td>MODIFIER                     </td><td>KLHL17                       </td><td>ENSG00000187961              </td><td>Transcript                   </td><td>ENST00000466300              </td><td>nonsense_mediated_decay      </td><td>.                            </td><td>.                            </td><td>.                            </td><td>.                            </td><td>.                            </td><td>.                            </td><td>.                            </td><td>.                            </td><td>.                            </td><td>.                            </td><td>95                           </td><td>1                            </td><td>cds_start_NF                 </td><td>SNV                          </td><td>HGNC                         </td><td>24023                        </td><td>.                            </td><td>.                            </td><td>.                            </td><td>.                            </td><td>ENSP00000463694              </td><td>.                            </td><td>.                            </td><td>UPI000268AE1E                </td><td>.                            </td><td>.                            </td><td>.                            </td><td>.                            </td><td>.                            </td><td>.                            </td><td>.                            </td><td>.                            </td><td>.                            </td><td>.                            </td><td>.                            </td><td>.                            </td><td>.                            </td><td>.                            </td><td>.                            </td><td>.                            </td><td>.                            </td><td>.                            </td><td>.                            </td><td>.                            </td><td>.                            </td><td>.                            </td><td>.                            </td><td>.                            </td><td>.                            </td><td>.                            </td><td>.                            </td><td>.                            </td><td>.                            </td><td>.                            </td><td>.                            </td><td>.                            </td><td>1_898012_G_T                 </td></tr>\n",
       "\t<tr><td>1                            </td><td>898012                       </td><td>G                            </td><td>T                            </td><td>SNP                          </td><td>VARDICT                      </td><td>99                           </td><td>96                           </td><td>3                            </td><td>NO                           </td><td>.                            </td><td>T                            </td><td>upstream_gene_variant        </td><td>MODIFIER                     </td><td>KLHL17                       </td><td>ENSG00000187961              </td><td>Transcript                   </td><td>ENST00000481067              </td><td>retained_intron              </td><td>.                            </td><td>.                            </td><td>.                            </td><td>.                            </td><td>.                            </td><td>.                            </td><td>.                            </td><td>.                            </td><td>.                            </td><td>.                            </td><td>920                          </td><td>1                            </td><td>.                            </td><td>SNV                          </td><td>HGNC                         </td><td>24023                        </td><td>.                            </td><td>.                            </td><td>.                            </td><td>.                            </td><td>.                            </td><td>.                            </td><td>.                            </td><td>.                            </td><td>.                            </td><td>.                            </td><td>.                            </td><td>.                            </td><td>.                            </td><td>.                            </td><td>.                            </td><td>.                            </td><td>.                            </td><td>.                            </td><td>.                            </td><td>.                            </td><td>.                            </td><td>.                            </td><td>.                            </td><td>.                            </td><td>.                            </td><td>.                            </td><td>.                            </td><td>.                            </td><td>.                            </td><td>.                            </td><td>.                            </td><td>.                            </td><td>.                            </td><td>.                            </td><td>.                            </td><td>.                            </td><td>.                            </td><td>.                            </td><td>.                            </td><td>.                            </td><td>1_898012_G_T                 </td></tr>\n",
       "\t<tr><td>1                            </td><td>898012                       </td><td>G                            </td><td>T                            </td><td>SNP                          </td><td>VARDICT                      </td><td>99                           </td><td>96                           </td><td>3                            </td><td>NO                           </td><td>.                            </td><td>T                            </td><td>upstream_gene_variant        </td><td>MODIFIER                     </td><td>NOC2L                        </td><td>ENSG00000188976              </td><td>Transcript                   </td><td>ENST00000327044              </td><td>protein_coding               </td><td>.                            </td><td>.                            </td><td>.                            </td><td>.                            </td><td>.                            </td><td>.                            </td><td>.                            </td><td>.                            </td><td>.                            </td><td>.                            </td><td>3342                         </td><td>-1                           </td><td>.                            </td><td>SNV                          </td><td>HGNC                         </td><td>24517                        </td><td>YES                          </td><td>.                            </td><td>.                            </td><td>CCDS3.1                      </td><td>ENSP00000317992              </td><td>Q9Y3T9                       </td><td>.                            </td><td>UPI000041820C                </td><td>.                            </td><td>.                            </td><td>.                            </td><td>.                            </td><td>.                            </td><td>.                            </td><td>.                            </td><td>.                            </td><td>.                            </td><td>.                            </td><td>.                            </td><td>.                            </td><td>.                            </td><td>.                            </td><td>.                            </td><td>.                            </td><td>.                            </td><td>.                            </td><td>.                            </td><td>.                            </td><td>.                            </td><td>.                            </td><td>.                            </td><td>.                            </td><td>.                            </td><td>.                            </td><td>.                            </td><td>.                            </td><td>.                            </td><td>.                            </td><td>.                            </td><td>.                            </td><td>1_898012_G_T                 </td></tr>\n",
       "</tbody>\n",
       "</table>\n"
      ],
      "text/latex": [
       "\\begin{tabular}{r|llllllllllllllllllllllllllllllllllllllllllllllllllllllllllllllllllllllllllll}\n",
       " CHROM & POS & REF & ALT & TYPE & CALLER & TUMOR\\_DP & TUMOR\\_AD\\_REF & TUMOR\\_AD\\_ALT & FILTERED & MSK\\_MVL & Allele & Consequence & IMPACT & SYMBOL & Gene & Feature\\_type & Feature & BIOTYPE & EXON & INTRON & HGVSc & HGVSp & cDNA\\_position & CDS\\_position & Protein\\_position & Amino\\_acids & Codons & Existing\\_variation & DISTANCE & STRAND & FLAGS & VARIANT\\_CLASS & SYMBOL\\_SOURCE & HGNC\\_ID & CANONICAL & TSL & APPRIS & CCDS & ENSP & SWISSPROT & TREMBL & UNIPARC & GENE\\_PHENO & SIFT & PolyPhen & DOMAINS & HGVS\\_OFFSET & AF & AFR\\_AF & AMR\\_AF & EAS\\_AF & EUR\\_AF & SAS\\_AF & AA\\_AF & EA\\_AF & gnomAD\\_AF & gnomAD\\_AFR\\_AF & gnomAD\\_AMR\\_AF & gnomAD\\_ASJ\\_AF & gnomAD\\_EAS\\_AF & gnomAD\\_FIN\\_AF & gnomAD\\_NFE\\_AF & gnomAD\\_OTH\\_AF & gnomAD\\_SAS\\_AF & MAX\\_AF & MAX\\_AF\\_POPS & CLIN\\_SIG & SOMATIC & PHENO & PUBMED & MOTIF\\_NAME & MOTIF\\_POS & HIGH\\_INF\\_POS & MOTIF\\_SCORE\\_CHANGE & ID\\\\\n",
       "\\hline\n",
       "\t 1                             & 898012                        & G                             & T                             & SNP                           & VARDICT                       & 99                            & 96                            & 3                             & NO                            & .                             & T                             & downstream\\_gene\\_variant   & MODIFIER                      & KLHL17                        & ENSG00000187961               & Transcript                    & ENST00000463212               & retained\\_intron             & .                             & .                             & .                             & .                             & .                             & .                             & .                             & .                             & .                             & .                             & 154                           & 1                             & .                             & SNV                           & HGNC                          & 24023                         & .                             & .                             & .                             & .                             & .                             & .                             & .                             & .                             & .                             & .                             & .                             & .                             & .                             & .                             & .                             & .                             & .                             & .                             & .                             & .                             & .                             & .                             & .                             & .                             & .                             & .                             & .                             & .                             & .                             & .                             & .                             & .                             & .                             & .                             & .                             & .                             & .                             & .                             & .                             & .                             & 1\\_898012\\_G\\_T           \\\\\n",
       "\t 1                             & 898012                        & G                             & T                             & SNP                           & VARDICT                       & 99                            & 96                            & 3                             & NO                            & .                             & T                             & intron\\_variant              & MODIFIER                      & KLHL17                        & ENSG00000187961               & Transcript                    & ENST00000338591               & protein\\_coding              & .                             & 5/11                          & ENST00000338591.3:c.829-72G>T & .                             & .                             & .                             & .                             & .                             & .                             & .                             & .                             & 1                             & .                             & SNV                           & HGNC                          & 24023                         & YES                           & .                             & .                             & CCDS30550.1                   & ENSP00000343930               & Q6TDP4                        & Q0VGE6\\&B3KXL7               & UPI00001DFBF0                 & .                             & .                             & .                             & .                             & .                             & .                             & .                             & .                             & .                             & .                             & .                             & .                             & .                             & .                             & .                             & .                             & .                             & .                             & .                             & .                             & .                             & .                             & .                             & .                             & .                             & .                             & .                             & .                             & .                             & .                             & .                             & .                             & 1\\_898012\\_G\\_T           \\\\\n",
       "\t 1                             & 898012                        & G                             & T                             & SNP                           & VARDICT                       & 99                            & 96                            & 3                             & NO                            & .                             & T                             & regulatory\\_region\\_variant & MODIFIER                      & .                             & .                             & RegulatoryFeature             & ENSR00000344307               & CTCF\\_binding\\_site         & .                             & .                             & .                             & .                             & .                             & .                             & .                             & .                             & .                             & .                             & .                             & .                             & .                             & SNV                           & .                             & .                             & .                             & .                             & .                             & .                             & .                             & .                             & .                             & .                             & .                             & .                             & .                             & .                             & .                             & .                             & .                             & .                             & .                             & .                             & .                             & .                             & .                             & .                             & .                             & .                             & .                             & .                             & .                             & .                             & .                             & .                             & .                             & .                             & .                             & .                             & .                             & .                             & .                             & .                             & .                             & .                             & 1\\_898012\\_G\\_T           \\\\\n",
       "\t 1                             & 898012                        & G                             & T                             & SNP                           & VARDICT                       & 99                            & 96                            & 3                             & NO                            & .                             & T                             & upstream\\_gene\\_variant     & MODIFIER                      & KLHL17                        & ENSG00000187961               & Transcript                    & ENST00000466300               & nonsense\\_mediated\\_decay   & .                             & .                             & .                             & .                             & .                             & .                             & .                             & .                             & .                             & .                             & 95                            & 1                             & cds\\_start\\_NF              & SNV                           & HGNC                          & 24023                         & .                             & .                             & .                             & .                             & ENSP00000463694               & .                             & .                             & UPI000268AE1E                 & .                             & .                             & .                             & .                             & .                             & .                             & .                             & .                             & .                             & .                             & .                             & .                             & .                             & .                             & .                             & .                             & .                             & .                             & .                             & .                             & .                             & .                             & .                             & .                             & .                             & .                             & .                             & .                             & .                             & .                             & .                             & .                             & 1\\_898012\\_G\\_T           \\\\\n",
       "\t 1                             & 898012                        & G                             & T                             & SNP                           & VARDICT                       & 99                            & 96                            & 3                             & NO                            & .                             & T                             & upstream\\_gene\\_variant     & MODIFIER                      & KLHL17                        & ENSG00000187961               & Transcript                    & ENST00000481067               & retained\\_intron             & .                             & .                             & .                             & .                             & .                             & .                             & .                             & .                             & .                             & .                             & 920                           & 1                             & .                             & SNV                           & HGNC                          & 24023                         & .                             & .                             & .                             & .                             & .                             & .                             & .                             & .                             & .                             & .                             & .                             & .                             & .                             & .                             & .                             & .                             & .                             & .                             & .                             & .                             & .                             & .                             & .                             & .                             & .                             & .                             & .                             & .                             & .                             & .                             & .                             & .                             & .                             & .                             & .                             & .                             & .                             & .                             & .                             & .                             & 1\\_898012\\_G\\_T           \\\\\n",
       "\t 1                             & 898012                        & G                             & T                             & SNP                           & VARDICT                       & 99                            & 96                            & 3                             & NO                            & .                             & T                             & upstream\\_gene\\_variant     & MODIFIER                      & NOC2L                         & ENSG00000188976               & Transcript                    & ENST00000327044               & protein\\_coding              & .                             & .                             & .                             & .                             & .                             & .                             & .                             & .                             & .                             & .                             & 3342                          & -1                            & .                             & SNV                           & HGNC                          & 24517                         & YES                           & .                             & .                             & CCDS3.1                       & ENSP00000317992               & Q9Y3T9                        & .                             & UPI000041820C                 & .                             & .                             & .                             & .                             & .                             & .                             & .                             & .                             & .                             & .                             & .                             & .                             & .                             & .                             & .                             & .                             & .                             & .                             & .                             & .                             & .                             & .                             & .                             & .                             & .                             & .                             & .                             & .                             & .                             & .                             & .                             & .                             & 1\\_898012\\_G\\_T           \\\\\n",
       "\\end{tabular}\n"
      ],
      "text/markdown": [
       "\n",
       "CHROM | POS | REF | ALT | TYPE | CALLER | TUMOR_DP | TUMOR_AD_REF | TUMOR_AD_ALT | FILTERED | MSK_MVL | Allele | Consequence | IMPACT | SYMBOL | Gene | Feature_type | Feature | BIOTYPE | EXON | INTRON | HGVSc | HGVSp | cDNA_position | CDS_position | Protein_position | Amino_acids | Codons | Existing_variation | DISTANCE | STRAND | FLAGS | VARIANT_CLASS | SYMBOL_SOURCE | HGNC_ID | CANONICAL | TSL | APPRIS | CCDS | ENSP | SWISSPROT | TREMBL | UNIPARC | GENE_PHENO | SIFT | PolyPhen | DOMAINS | HGVS_OFFSET | AF | AFR_AF | AMR_AF | EAS_AF | EUR_AF | SAS_AF | AA_AF | EA_AF | gnomAD_AF | gnomAD_AFR_AF | gnomAD_AMR_AF | gnomAD_ASJ_AF | gnomAD_EAS_AF | gnomAD_FIN_AF | gnomAD_NFE_AF | gnomAD_OTH_AF | gnomAD_SAS_AF | MAX_AF | MAX_AF_POPS | CLIN_SIG | SOMATIC | PHENO | PUBMED | MOTIF_NAME | MOTIF_POS | HIGH_INF_POS | MOTIF_SCORE_CHANGE | ID | \n",
       "|---|---|---|---|---|---|\n",
       "| 1                             | 898012                        | G                             | T                             | SNP                           | VARDICT                       | 99                            | 96                            | 3                             | NO                            | .                             | T                             | downstream_gene_variant       | MODIFIER                      | KLHL17                        | ENSG00000187961               | Transcript                    | ENST00000463212               | retained_intron               | .                             | .                             | .                             | .                             | .                             | .                             | .                             | .                             | .                             | .                             | 154                           | 1                             | .                             | SNV                           | HGNC                          | 24023                         | .                             | .                             | .                             | .                             | .                             | .                             | .                             | .                             | .                             | .                             | .                             | .                             | .                             | .                             | .                             | .                             | .                             | .                             | .                             | .                             | .                             | .                             | .                             | .                             | .                             | .                             | .                             | .                             | .                             | .                             | .                             | .                             | .                             | .                             | .                             | .                             | .                             | .                             | .                             | .                             | 1_898012_G_T                  | \n",
       "| 1                             | 898012                        | G                             | T                             | SNP                           | VARDICT                       | 99                            | 96                            | 3                             | NO                            | .                             | T                             | intron_variant                | MODIFIER                      | KLHL17                        | ENSG00000187961               | Transcript                    | ENST00000338591               | protein_coding                | .                             | 5/11                          | ENST00000338591.3:c.829-72G>T | .                             | .                             | .                             | .                             | .                             | .                             | .                             | .                             | 1                             | .                             | SNV                           | HGNC                          | 24023                         | YES                           | .                             | .                             | CCDS30550.1                   | ENSP00000343930               | Q6TDP4                        | Q0VGE6&B3KXL7                 | UPI00001DFBF0                 | .                             | .                             | .                             | .                             | .                             | .                             | .                             | .                             | .                             | .                             | .                             | .                             | .                             | .                             | .                             | .                             | .                             | .                             | .                             | .                             | .                             | .                             | .                             | .                             | .                             | .                             | .                             | .                             | .                             | .                             | .                             | .                             | 1_898012_G_T                  | \n",
       "| 1                             | 898012                        | G                             | T                             | SNP                           | VARDICT                       | 99                            | 96                            | 3                             | NO                            | .                             | T                             | regulatory_region_variant     | MODIFIER                      | .                             | .                             | RegulatoryFeature             | ENSR00000344307               | CTCF_binding_site             | .                             | .                             | .                             | .                             | .                             | .                             | .                             | .                             | .                             | .                             | .                             | .                             | .                             | SNV                           | .                             | .                             | .                             | .                             | .                             | .                             | .                             | .                             | .                             | .                             | .                             | .                             | .                             | .                             | .                             | .                             | .                             | .                             | .                             | .                             | .                             | .                             | .                             | .                             | .                             | .                             | .                             | .                             | .                             | .                             | .                             | .                             | .                             | .                             | .                             | .                             | .                             | .                             | .                             | .                             | .                             | .                             | 1_898012_G_T                  | \n",
       "| 1                             | 898012                        | G                             | T                             | SNP                           | VARDICT                       | 99                            | 96                            | 3                             | NO                            | .                             | T                             | upstream_gene_variant         | MODIFIER                      | KLHL17                        | ENSG00000187961               | Transcript                    | ENST00000466300               | nonsense_mediated_decay       | .                             | .                             | .                             | .                             | .                             | .                             | .                             | .                             | .                             | .                             | 95                            | 1                             | cds_start_NF                  | SNV                           | HGNC                          | 24023                         | .                             | .                             | .                             | .                             | ENSP00000463694               | .                             | .                             | UPI000268AE1E                 | .                             | .                             | .                             | .                             | .                             | .                             | .                             | .                             | .                             | .                             | .                             | .                             | .                             | .                             | .                             | .                             | .                             | .                             | .                             | .                             | .                             | .                             | .                             | .                             | .                             | .                             | .                             | .                             | .                             | .                             | .                             | .                             | 1_898012_G_T                  | \n",
       "| 1                             | 898012                        | G                             | T                             | SNP                           | VARDICT                       | 99                            | 96                            | 3                             | NO                            | .                             | T                             | upstream_gene_variant         | MODIFIER                      | KLHL17                        | ENSG00000187961               | Transcript                    | ENST00000481067               | retained_intron               | .                             | .                             | .                             | .                             | .                             | .                             | .                             | .                             | .                             | .                             | 920                           | 1                             | .                             | SNV                           | HGNC                          | 24023                         | .                             | .                             | .                             | .                             | .                             | .                             | .                             | .                             | .                             | .                             | .                             | .                             | .                             | .                             | .                             | .                             | .                             | .                             | .                             | .                             | .                             | .                             | .                             | .                             | .                             | .                             | .                             | .                             | .                             | .                             | .                             | .                             | .                             | .                             | .                             | .                             | .                             | .                             | .                             | .                             | 1_898012_G_T                  | \n",
       "| 1                             | 898012                        | G                             | T                             | SNP                           | VARDICT                       | 99                            | 96                            | 3                             | NO                            | .                             | T                             | upstream_gene_variant         | MODIFIER                      | NOC2L                         | ENSG00000188976               | Transcript                    | ENST00000327044               | protein_coding                | .                             | .                             | .                             | .                             | .                             | .                             | .                             | .                             | .                             | .                             | 3342                          | -1                            | .                             | SNV                           | HGNC                          | 24517                         | YES                           | .                             | .                             | CCDS3.1                       | ENSP00000317992               | Q9Y3T9                        | .                             | UPI000041820C                 | .                             | .                             | .                             | .                             | .                             | .                             | .                             | .                             | .                             | .                             | .                             | .                             | .                             | .                             | .                             | .                             | .                             | .                             | .                             | .                             | .                             | .                             | .                             | .                             | .                             | .                             | .                             | .                             | .                             | .                             | .                             | .                             | 1_898012_G_T                  | \n",
       "\n",
       "\n"
      ],
      "text/plain": [
       "  CHROM POS    REF ALT TYPE CALLER  TUMOR_DP TUMOR_AD_REF TUMOR_AD_ALT FILTERED\n",
       "1 1     898012 G   T   SNP  VARDICT 99       96           3            NO      \n",
       "2 1     898012 G   T   SNP  VARDICT 99       96           3            NO      \n",
       "3 1     898012 G   T   SNP  VARDICT 99       96           3            NO      \n",
       "4 1     898012 G   T   SNP  VARDICT 99       96           3            NO      \n",
       "5 1     898012 G   T   SNP  VARDICT 99       96           3            NO      \n",
       "6 1     898012 G   T   SNP  VARDICT 99       96           3            NO      \n",
       "  MSK_MVL Allele Consequence               IMPACT   SYMBOL Gene           \n",
       "1 .       T      downstream_gene_variant   MODIFIER KLHL17 ENSG00000187961\n",
       "2 .       T      intron_variant            MODIFIER KLHL17 ENSG00000187961\n",
       "3 .       T      regulatory_region_variant MODIFIER .      .              \n",
       "4 .       T      upstream_gene_variant     MODIFIER KLHL17 ENSG00000187961\n",
       "5 .       T      upstream_gene_variant     MODIFIER KLHL17 ENSG00000187961\n",
       "6 .       T      upstream_gene_variant     MODIFIER NOC2L  ENSG00000188976\n",
       "  Feature_type      Feature         BIOTYPE                 EXON INTRON\n",
       "1 Transcript        ENST00000463212 retained_intron         .    .     \n",
       "2 Transcript        ENST00000338591 protein_coding          .    5/11  \n",
       "3 RegulatoryFeature ENSR00000344307 CTCF_binding_site       .    .     \n",
       "4 Transcript        ENST00000466300 nonsense_mediated_decay .    .     \n",
       "5 Transcript        ENST00000481067 retained_intron         .    .     \n",
       "6 Transcript        ENST00000327044 protein_coding          .    .     \n",
       "  HGVSc                         HGVSp cDNA_position CDS_position\n",
       "1 .                             .     .             .           \n",
       "2 ENST00000338591.3:c.829-72G>T .     .             .           \n",
       "3 .                             .     .             .           \n",
       "4 .                             .     .             .           \n",
       "5 .                             .     .             .           \n",
       "6 .                             .     .             .           \n",
       "  Protein_position Amino_acids Codons Existing_variation DISTANCE STRAND\n",
       "1 .                .           .      .                  154      1     \n",
       "2 .                .           .      .                  .        1     \n",
       "3 .                .           .      .                  .        .     \n",
       "4 .                .           .      .                  95       1     \n",
       "5 .                .           .      .                  920      1     \n",
       "6 .                .           .      .                  3342     -1    \n",
       "  FLAGS        VARIANT_CLASS SYMBOL_SOURCE HGNC_ID CANONICAL TSL APPRIS\n",
       "1 .            SNV           HGNC          24023   .         .   .     \n",
       "2 .            SNV           HGNC          24023   YES       .   .     \n",
       "3 .            SNV           .             .       .         .   .     \n",
       "4 cds_start_NF SNV           HGNC          24023   .         .   .     \n",
       "5 .            SNV           HGNC          24023   .         .   .     \n",
       "6 .            SNV           HGNC          24517   YES       .   .     \n",
       "  CCDS        ENSP            SWISSPROT TREMBL        UNIPARC       GENE_PHENO\n",
       "1 .           .               .         .             .             .         \n",
       "2 CCDS30550.1 ENSP00000343930 Q6TDP4    Q0VGE6&B3KXL7 UPI00001DFBF0 .         \n",
       "3 .           .               .         .             .             .         \n",
       "4 .           ENSP00000463694 .         .             UPI000268AE1E .         \n",
       "5 .           .               .         .             .             .         \n",
       "6 CCDS3.1     ENSP00000317992 Q9Y3T9    .             UPI000041820C .         \n",
       "  SIFT PolyPhen DOMAINS HGVS_OFFSET AF AFR_AF AMR_AF EAS_AF EUR_AF SAS_AF AA_AF\n",
       "1 .    .        .       .           .  .      .      .      .      .      .    \n",
       "2 .    .        .       .           .  .      .      .      .      .      .    \n",
       "3 .    .        .       .           .  .      .      .      .      .      .    \n",
       "4 .    .        .       .           .  .      .      .      .      .      .    \n",
       "5 .    .        .       .           .  .      .      .      .      .      .    \n",
       "6 .    .        .       .           .  .      .      .      .      .      .    \n",
       "  EA_AF gnomAD_AF gnomAD_AFR_AF gnomAD_AMR_AF gnomAD_ASJ_AF gnomAD_EAS_AF\n",
       "1 .     .         .             .             .             .            \n",
       "2 .     .         .             .             .             .            \n",
       "3 .     .         .             .             .             .            \n",
       "4 .     .         .             .             .             .            \n",
       "5 .     .         .             .             .             .            \n",
       "6 .     .         .             .             .             .            \n",
       "  gnomAD_FIN_AF gnomAD_NFE_AF gnomAD_OTH_AF gnomAD_SAS_AF MAX_AF MAX_AF_POPS\n",
       "1 .             .             .             .             .      .          \n",
       "2 .             .             .             .             .      .          \n",
       "3 .             .             .             .             .      .          \n",
       "4 .             .             .             .             .      .          \n",
       "5 .             .             .             .             .      .          \n",
       "6 .             .             .             .             .      .          \n",
       "  CLIN_SIG SOMATIC PHENO PUBMED MOTIF_NAME MOTIF_POS HIGH_INF_POS\n",
       "1 .        .       .     .      .          .         .           \n",
       "2 .        .       .     .      .          .         .           \n",
       "3 .        .       .     .      .          .         .           \n",
       "4 .        .       .     .      .          .         .           \n",
       "5 .        .       .     .      .          .         .           \n",
       "6 .        .       .     .      .          .         .           \n",
       "  MOTIF_SCORE_CHANGE ID          \n",
       "1 .                  1_898012_G_T\n",
       "2 .                  1_898012_G_T\n",
       "3 .                  1_898012_G_T\n",
       "4 .                  1_898012_G_T\n",
       "5 .                  1_898012_G_T\n",
       "6 .                  1_898012_G_T"
      ]
     },
     "metadata": {},
     "output_type": "display_data"
    }
   ],
   "source": [
    "sample.coverage = fread(\"notebook_data/vep_SNV.merged.table\")\n",
    "sample.coverage[,ID:=paste0(CHROM,\"_\",POS,\"_\",REF,\"_\",ALT)]\n",
    "options(repr.matrix.max.cols = 80)\n",
    "head(sample.coverage)"
   ]
  },
  {
   "cell_type": "code",
   "execution_count": 53,
   "metadata": {},
   "outputs": [
    {
     "data": {},
     "metadata": {},
     "output_type": "display_data"
    },
    {
     "name": "stdout",
     "output_type": "stream",
     "text": [
      "\n",
      "Tumor mutation burden (TMB)\n",
      "==================================================================================\n",
      "CALLER                                    N                         TMB           \n",
      "----------------------------------------------------------------------------------\n",
      "VARDICT                                  6603                     169.854         \n",
      "STRELKA                                  680                      17.492          \n",
      "MUTECT2                                  1324                     34.058          \n",
      "ALL                                      8188                     210.626         \n",
      "----------------------------------------------------------------------------------\n",
      "1. Variant callers included: vardict, mutect2, strelka                            \n",
      "2. Variant types: snv, indel, insertion, deletion, substitution                   \n",
      "3. Only all coding variants (all subchilds of nonsynonymous variants annotation)  \n"
     ]
    }
   ],
   "source": [
    "genomeLength = 38874504/1e6\n",
    "\n",
    "var_caller = as.list(unique(sample.coverage[,\"CALLER\"]))$CALLER\n",
    "annotation = c(\"stop_gained\", \"stop_lost\", \"start_lost\",\n",
    "               \"missense_variant\", \"nonsynonymous_variant\",\n",
    "               \"splice_acceptor_variant\", \"splice_donor_variant\",\n",
    "               \"splice_donor_5th_base_variant\", \"splice_site_variant\",\n",
    "               \"splicing_variant\", \"frameshift_variant\")\n",
    "\n",
    "dt1 = unique(sample.coverage[CALLER %in% var_caller\n",
    "                     & Consequence %in% annotation, .(CHROM, POS),\n",
    "                     by=.(ID, CALLER)])[,.(.N,\"TMB\"=.N/genomeLength),by=.(CALLER)]\n",
    "\n",
    "dt2 = unique(sample.coverage[CALLER %in% var_caller\n",
    "                     & Consequence %in% annotation, .(CALLER),\n",
    "                     by=.(ID)][,.(ID)])[,.(.N)]\n",
    "dt2[,\"CALLER\":=\"ALL\"]\n",
    "setcolorder(dt2, neworder = c(\"CALLER\", \"N\"))\n",
    "dt = dt2[,.(CALLER, N, \"TMB\"=N/genomeLength)]\n",
    "\n",
    "str_annot = paste(gsub(\"_\", \"-\", annotation), collapse = \", \")\n",
    "dt.TMB = rbind(dt1, dt)\n",
    "stargazer(unique(dt.TMB), summary = FALSE, type = \"text\", rownames = F,\n",
    "          title = \"Tumor mutation burden (TMB)\",\n",
    "          digit.separator = \"\",\n",
    "          notes = c(paste0(\"1. Variant callers included: \",\n",
    "                           tolower(paste(as.list(unique(sample.coverage[,\"CALLER\"]))$CALLER,\n",
    "                                         collapse = \", \"))),\n",
    "                    paste0(\"2. Variant types: \",\n",
    "                           tolower(paste(as.list(unique(sample.coverage[,\"VARIANT_CLASS\"]))$VARIANT_CLASS,\n",
    "                                         collapse=\", \"))),\n",
    "                    paste0(\"3. Only all coding variants (all subchilds of nonsynonymous variants annotation)\")))\n"
   ]
  },
  {
   "cell_type": "code",
   "execution_count": 63,
   "metadata": {},
   "outputs": [
    {
     "name": "stdout",
     "output_type": "stream",
     "text": [
      "\n",
      "Variant class summary\n",
      "==============================================================================\n",
      "CALLERS                 VARIANT_CLASS        CALLERCOUNT             N        \n",
      "------------------------------------------------------------------------------\n",
      "ALL                          SNV                  3                5762       \n",
      "ALL                       deletion                3                 731       \n",
      "ALL                         indel                 1                1733       \n",
      "ALL                       insertion               3                7085       \n",
      "ALL                     substitution              1                 472       \n",
      "MUTECT2                   All_types               1                2353       \n",
      "MUTECT2                      SNV                  1                 482       \n",
      "MUTECT2                   deletion                1                 283       \n",
      "MUTECT2                   insertion               1                1588       \n",
      "STRELKA                   All_types               1                2267       \n",
      "STRELKA                      SNV                  1                2130       \n",
      "STRELKA                   deletion                1                 100       \n",
      "STRELKA                   insertion               1                 37        \n",
      "VARDICT                   All_types               1                11163      \n",
      "VARDICT                      SNV                  1                3150       \n",
      "VARDICT                   deletion                1                 348       \n",
      "VARDICT                     indel                 1                1733       \n",
      "VARDICT                   insertion               1                5460       \n",
      "VARDICT                 substitution              1                 472       \n",
      "------------------------------------------------------------------------------\n",
      "1. A summary of variant classes devided by variant class and variant caller   \n",
      "2. Variant callers included: vardict, mutect2, strelka                        \n",
      "3. Variant types: snv, indel, insertion, deletion, substitution               \n"
     ]
    }
   ],
   "source": [
    "dt = unique(sample.coverage[,.(ID,CALLER,VARIANT_CLASS)])\n",
    "dt.typevars = dt[,.(\"CALLERCOUNT\"=length(unique(c(CALLER))),.N),\n",
    "                 by=.(\"CALLERS\"=CALLER,VARIANT_CLASS)][order(CALLERS,-VARIANT_CLASS)]\n",
    "\n",
    "dt = unique(sample.coverage[,.(ID,CALLER,VARIANT_CLASS)])\n",
    "dt = dt[,.(\"CALLERS\"=\"ALL\",\"CALLERCOUNT\"=length(unique(c(CALLER))),.N),\n",
    "        by=(VARIANT_CLASS)]\n",
    "setcolorder(dt, neworder = c(\"CALLERS\", \"VARIANT_CLASS\", \"CALLERCOUNT\",\"N\"))\n",
    "dt.typecensus = rbind(dt, dt.typevars)\n",
    "\n",
    "dt = unique(sample.coverage[,.(ID,CALLER)])\n",
    "dt.allcallers = dt[,.(\"VARIANT_CLASS\"=\"All_types\",\"CALLERCOUNT\"=1,.N), by=.(\"CALLERS\"=CALLER) ][order(CALLERS)]\n",
    "\n",
    "dt.callercensus = rbind(dt.allcallers,dt.typecensus)[order(CALLERS,VARIANT_CLASS,CALLERCOUNT)]\n",
    "stargazer(unique(dt.callercensus), summary = FALSE, type = \"text\", rownames = F,\n",
    "          title = \"Variant class summary\",\n",
    "          digit.separator = \"\",\n",
    "          notes = c(paste0(\"1. A summary of variant classes devided by variant class and variant caller\"),\n",
    "                    paste0(\"2. Variant callers included: \",\n",
    "                           tolower(paste(as.list(unique(sample.coverage[,\"CALLER\"]))$CALLER,\n",
    "                                         collapse = \", \"))),\n",
    "                    paste0(\"3. Variant types: \",\n",
    "                           tolower(paste(as.list(unique(sample.coverage[,\"VARIANT_CLASS\"]))$VARIANT_CLASS,\n",
    "                                         collapse=\", \")))))"
   ]
  },
  {
   "cell_type": "code",
   "execution_count": 67,
   "metadata": {},
   "outputs": [
    {
     "name": "stdout",
     "output_type": "stream",
     "text": [
      "\n",
      "Variant caller summary\n",
      "=========================================================================================\n",
      "CALLERS                                         CALLERCOUNT                   N          \n",
      "-----------------------------------------------------------------------------------------\n",
      "MUTECT2                                              1                      2035         \n",
      "STRELKA                                              1                      1823         \n",
      "VARDICT                                              1                      10505        \n",
      "STRELKA-MUTECT2                                      2                       19          \n",
      "VARDICT-MUTECT2                                      2                       233         \n",
      "VARDICT-STRELKA                                      2                       359         \n",
      "VARDICT-STRELKA-MUTECT2                              3                       66          \n",
      "-----------------------------------------------------------------------------------------\n",
      "1. A summary of exclusive variant types devided by variant callers that identified them  \n",
      "2. Variant callers included: vardict, mutect2, strelka                                   \n",
      "3. Variant types: snv, indel, insertion, deletion, substitution                          \n"
     ]
    }
   ],
   "source": [
    "var_caller = as.list(unique(sample.coverage[,\"CALLER\"]))$CALLER\n",
    "var_caller_combn = do.call(\"c\", lapply(seq_along(var_caller),\n",
    "                                       function(i) {combn(var_caller, i, simplify = F)}))\n",
    "\n",
    "dt = unique(sample.coverage[,.(ID,CALLER,VARIANT_CLASS)])\n",
    "dt = dt[,.(\"CALLERS\"=paste(unique(c(CALLER)),collapse = \"-\"),\n",
    "                        \"CALLERCOUNT\"=length(unique(c(CALLER)))),\n",
    "                     by=.(ID)][,.(.N),\n",
    "                               by=.(CALLERS,CALLERCOUNT)\n",
    "                              ]\n",
    "\n",
    "dt.venn = dt[order(CALLERCOUNT,CALLERS)]\n",
    "stargazer(unique(dt.venn), summary = FALSE, type = \"text\",\n",
    "          title = \"Variant caller summary\",\n",
    "          digit.separator = \"\", rownames = F,\n",
    "          notes = c(paste0(\"1. A summary of exclusive variant types \",\n",
    "                           \"devided by variant callers that identified them\"),\n",
    "                    paste0(\"2. Variant callers included: \",\n",
    "                           tolower(paste(as.list(unique(sample.coverage[,\"CALLER\"]))$CALLER,\n",
    "                                         collapse = \", \"))),\n",
    "                    paste0(\"3. Variant types: \",\n",
    "                           tolower(paste(as.list(unique(sample.coverage[,\"VARIANT_CLASS\"]))$VARIANT_CLASS,\n",
    "                                         collapse=\", \")))))"
   ]
  },
  {
   "cell_type": "code",
   "execution_count": 40,
   "metadata": {},
   "outputs": [
    {
     "name": "stdout",
     "output_type": "stream",
     "text": [
      "\n",
      "Variant caller summary by class\n",
      "==========================================================================================\n",
      "CALLERS                              VARIANT_CLASS          CALLERCOUNT            N      \n",
      "------------------------------------------------------------------------------------------\n",
      "MUTECT2                                   SNV                    1                376     \n",
      "MUTECT2                                 deletion                 1                241     \n",
      "MUTECT2                                insertion                 1               1418     \n",
      "STRELKA                                   SNV                    1               1700     \n",
      "STRELKA                                 deletion                 1                91      \n",
      "STRELKA                                insertion                 1                32      \n",
      "VARDICT                                   SNV                    1               2712     \n",
      "VARDICT                                 deletion                 1                303     \n",
      "VARDICT                                  indel                   1               1733     \n",
      "VARDICT                                insertion                 1               5285     \n",
      "VARDICT                               substitution               1                472     \n",
      "STRELKA-MUTECT2                           SNV                    2                36      \n",
      "STRELKA-MUTECT2                         deletion                 2                 2      \n",
      "VARDICT-MUTECT2                           SNV                    2                52      \n",
      "VARDICT-MUTECT2                         deletion                 2                74      \n",
      "VARDICT-MUTECT2                        insertion                 2                340     \n",
      "VARDICT-STRELKA                           SNV                    2                700     \n",
      "VARDICT-STRELKA                         deletion                 2                 8      \n",
      "VARDICT-STRELKA                        insertion                 2                10      \n",
      "VARDICT-STRELKA-MUTECT2                   SNV                    3                186     \n",
      "VARDICT-STRELKA-MUTECT2                 deletion                 3                12      \n",
      "------------------------------------------------------------------------------------------\n",
      "1. A summary of exclusive variant types devided by variant callers that identified them   \n",
      "2. Variant callers included: vardict, mutect2, strelka                                    \n",
      "3. Variant types: snv, indel, insertion, deletion, substitution                           \n"
     ]
    }
   ],
   "source": [
    "var_caller_combn = do.call(\"c\", lapply(seq_along(var_caller),\n",
    "                                       function(i) {combn(var_caller, i, simplify = F)}))\n",
    "\n",
    "dt = unique(sample.coverage[,.(ID,CALLER,VARIANT_CLASS)])\n",
    "dt = dt[,.(\"CALLERS\"=paste(unique(c(CALLER)),collapse = \"-\"),\n",
    "                        \"CALLERCOUNT\"=length(unique(c(CALLER))),\n",
    "                        VARIANT_CLASS),\n",
    "                     by=.(ID)][,.(.N),\n",
    "                               by=.(CALLERS,VARIANT_CLASS,CALLERCOUNT)\n",
    "                              ]\n",
    "\n",
    "dt.venn = dt[order(CALLERCOUNT,CALLERS,VARIANT_CLASS)]\n",
    "stargazer(unique(dt.venn), summary = FALSE, type = \"text\", rownames = F,\n",
    "          title = \"Variant caller summary by class\",\n",
    "          digit.separator = \"\",\n",
    "          notes = c(paste0(\"1. A summary of exclusive variant types \",\n",
    "                           \"devided by variant callers that identified them\"),\n",
    "                    paste0(\"2. Variant callers included: \",\n",
    "                           tolower(paste(as.list(unique(sample.coverage[,\"CALLER\"]))$CALLER,\n",
    "                                         collapse = \", \"))),\n",
    "                    paste0(\"3. Variant types: \",\n",
    "                           tolower(paste(as.list(unique(sample.coverage[,\"VARIANT_CLASS\"]))$VARIANT_CLASS,\n",
    "                                         collapse=\", \")))))"
   ]
  },
  {
   "cell_type": "code",
   "execution_count": null,
   "metadata": {},
   "outputs": [],
   "source": []
  },
  {
   "cell_type": "code",
   "execution_count": null,
   "metadata": {},
   "outputs": [],
   "source": []
  },
  {
   "cell_type": "code",
   "execution_count": null,
   "metadata": {},
   "outputs": [],
   "source": []
  },
  {
   "cell_type": "code",
   "execution_count": null,
   "metadata": {},
   "outputs": [],
   "source": []
  },
  {
   "cell_type": "code",
   "execution_count": null,
   "metadata": {},
   "outputs": [],
   "source": []
  },
  {
   "cell_type": "code",
   "execution_count": null,
   "metadata": {},
   "outputs": [],
   "source": []
  },
  {
   "cell_type": "code",
   "execution_count": null,
   "metadata": {},
   "outputs": [],
   "source": []
  },
  {
   "cell_type": "code",
   "execution_count": null,
   "metadata": {},
   "outputs": [],
   "source": []
  },
  {
   "cell_type": "code",
   "execution_count": null,
   "metadata": {},
   "outputs": [],
   "source": []
  },
  {
   "cell_type": "code",
   "execution_count": null,
   "metadata": {},
   "outputs": [],
   "source": []
  },
  {
   "cell_type": "code",
   "execution_count": null,
   "metadata": {},
   "outputs": [],
   "source": []
  },
  {
   "cell_type": "code",
   "execution_count": null,
   "metadata": {},
   "outputs": [],
   "source": []
  },
  {
   "cell_type": "code",
   "execution_count": null,
   "metadata": {},
   "outputs": [],
   "source": []
  },
  {
   "cell_type": "code",
   "execution_count": null,
   "metadata": {},
   "outputs": [],
   "source": []
  },
  {
   "cell_type": "code",
   "execution_count": null,
   "metadata": {},
   "outputs": [],
   "source": []
  },
  {
   "cell_type": "code",
   "execution_count": null,
   "metadata": {},
   "outputs": [],
   "source": []
  },
  {
   "cell_type": "code",
   "execution_count": null,
   "metadata": {},
   "outputs": [],
   "source": []
  }
 ],
 "metadata": {
  "kernelspec": {
   "display_name": "R",
   "language": "R",
   "name": "ir"
  },
  "language_info": {
   "codemirror_mode": "r",
   "file_extension": ".r",
   "mimetype": "text/x-r-source",
   "name": "R",
   "pygments_lexer": "r",
   "version": "3.4.1"
  }
 },
 "nbformat": 4,
 "nbformat_minor": 2
}
