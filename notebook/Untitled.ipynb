{
 "cells": [
  {
   "cell_type": "code",
   "execution_count": 2,
   "metadata": {},
   "outputs": [],
   "source": [
    "library(data.table)"
   ]
  },
  {
   "cell_type": "code",
   "execution_count": 5,
   "metadata": {},
   "outputs": [
    {
     "ename": "ERROR",
     "evalue": "Error in fread(fname): File 'cov/GBG_GBG2_Brca_20170125.cov' does not exist; getwd()=='/Users/hassanforoughi/repos/BALSAMIC/notebook'. Include correct full path, or one or more spaces to consider the input a system command.\n",
     "output_type": "error",
     "traceback": [
      "Error in fread(fname): File 'cov/GBG_GBG2_Brca_20170125.cov' does not exist; getwd()=='/Users/hassanforoughi/repos/BALSAMIC/notebook'. Include correct full path, or one or more spaces to consider the input a system command.\nTraceback:\n",
      "1. fread(fname)",
      "2. stop(\"File '\", input, \"' does not exist; getwd()=='\", getwd(), \n .     \"'\", \". Include correct full path, or one or more spaces to consider the input a system command.\")"
     ]
    }
   ],
   "source": [
    "cancer=\"Brca_20170125\"\n",
    "center=\"GBG\"\n",
    "sample=\"GBG2\"\n",
    "\n",
    "fname <- paste0(\"cov/\", center, \"_\", sample, \"_\", cancer, \".cov\")\n",
    "fread(\"cov/\")"
   ]
  }
 ],
 "metadata": {
  "kernelspec": {
   "display_name": "R",
   "language": "R",
   "name": "ir"
  },
  "language_info": {
   "codemirror_mode": "r",
   "file_extension": ".r",
   "mimetype": "text/x-r-source",
   "name": "R",
   "pygments_lexer": "r",
   "version": "3.5.1"
  }
 },
 "nbformat": 4,
 "nbformat_minor": 2
}
