{
 "cells": [
  {
   "cell_type": "code",
   "execution_count": 14,
   "metadata": {},
   "outputs": [
    {
     "name": "stdout",
     "output_type": "stream",
     "text": [
      ":older_man::skin-tone-2::older_man::skin-tone-2::older_man::skin-tone-2::older_man::skin-tone-2::older_man::skin-tone-2::older_man::skin-tone-2::older_man::skin-tone-2:\n",
      ":older_man::skin-tone-2::older_man::skin-tone-3::older_man::skin-tone-3::older_man::skin-tone-3::older_man::skin-tone-3::older_man::skin-tone-3::older_man::skin-tone-2:\n",
      ":older_man::skin-tone-2::older_man::skin-tone-3::older_man::skin-tone-4::older_man::skin-tone-4::older_man::skin-tone-4::older_man::skin-tone-3::older_man::skin-tone-2:\n",
      ":older_man::skin-tone-2::older_man::skin-tone-3::older_man::skin-tone-4::older_man::skin-tone-5::older_man::skin-tone-4::older_man::skin-tone-3::older_man::skin-tone-2:\n",
      ":older_man::skin-tone-2::older_man::skin-tone-3::older_man::skin-tone-4::older_man::skin-tone-4::older_man::skin-tone-4::older_man::skin-tone-3::older_man::skin-tone-2:\n",
      ":older_man::skin-tone-2::older_man::skin-tone-3::older_man::skin-tone-3::older_man::skin-tone-3::older_man::skin-tone-3::older_man::skin-tone-3::older_man::skin-tone-2:\n",
      ":older_man::skin-tone-2::older_man::skin-tone-2::older_man::skin-tone-2::older_man::skin-tone-2::older_man::skin-tone-2::older_man::skin-tone-2::older_man::skin-tone-2:\n"
     ]
    }
   ],
   "source": [
    "import numpy\n",
    "N = 7\n",
    "S = 5\n",
    "n = 2\n",
    "\n",
    "M = numpy.chararray((N,N), itemsize = 60)\n",
    "M[:] = \":older_man::skin-tone-\" + str(1) + \":\"\n",
    "\n",
    "for i in range(1,S,1):\n",
    "    a = i - 1\n",
    "    b = N - i + 1\n",
    "    M[a:b,a:b] = \":older_man::skin-tone-\" + str(n) + \":\"\n",
    "    n += 1\n",
    "\n",
    "print('\\n'.join(''.join(str(cell) for cell in row.decode('utf-8')) for row in M))\n"
   ]
  }
 ],
 "metadata": {
  "kernelspec": {
   "display_name": "Python 3",
   "language": "python",
   "name": "python3"
  },
  "language_info": {
   "codemirror_mode": {
    "name": "ipython",
    "version": 3
   },
   "file_extension": ".py",
   "mimetype": "text/x-python",
   "name": "python",
   "nbconvert_exporter": "python",
   "pygments_lexer": "ipython3",
   "version": "3.6.5"
  }
 },
 "nbformat": 4,
 "nbformat_minor": 2
}
